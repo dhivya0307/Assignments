{
 "cells": [
  {
   "cell_type": "markdown",
   "metadata": {},
   "source": [
    "DATA STRUCTURE IN PYTHON"
   ]
  },
  {
   "cell_type": "markdown",
   "metadata": {},
   "source": [
    "Lists,Tuples,Dictionaries,Tree,Graph,Linked Lists"
   ]
  },
  {
   "cell_type": "markdown",
   "metadata": {},
   "source": [
    "1.Lists "
   ]
  },
  {
   "cell_type": "code",
   "execution_count": 31,
   "metadata": {},
   "outputs": [
    {
     "name": "stdout",
     "output_type": "stream",
     "text": [
      "[5, 1, 2, 'a', 'y', 'D', 3.4]\n"
     ]
    }
   ],
   "source": [
    "# creating lists\n",
    "list=[5,1,2,\"a\",\"y\",\"D\",3.4]\n",
    "print(list)"
   ]
  },
  {
   "cell_type": "code",
   "execution_count": 32,
   "metadata": {},
   "outputs": [
    {
     "name": "stdout",
     "output_type": "stream",
     "text": [
      "[2, 3, 5, 'ayd', 5.6, 7.8]\n",
      "2\n",
      "5.6\n",
      "5.6\n",
      "7.8\n"
     ]
    }
   ],
   "source": [
    "# list operations\n",
    "mylist=[2,3,5,'ayd',5.6,7.8]\n",
    "print(mylist)\n",
    "#accessing items in list\n",
    "print(mylist[0])\n",
    "print(mylist[4])\n",
    "#using negative indexing\n",
    "print(mylist[-2])\n",
    "print(mylist[-1])\n"
   ]
  },
  {
   "cell_type": "markdown",
   "metadata": {},
   "source": [
    "2.Tuple"
   ]
  },
  {
   "cell_type": "code",
   "execution_count": 33,
   "metadata": {},
   "outputs": [
    {
     "name": "stdout",
     "output_type": "stream",
     "text": [
      "(1, 2, 'abc', 'bcd')\n",
      "[7, 85, 4, 2]\n",
      "(7, 85, 4, 2)\n",
      "7\n",
      "abc\n",
      "bcd\n"
     ]
    }
   ],
   "source": [
    "#creating tuple\n",
    "mytuple=(1,2,'abc','bcd')\n",
    "print(mytuple)\n",
    "list=[7,85,4,2]\n",
    "#convert list into tuple\n",
    "tuple1=tuple(list)\n",
    "print(list)\n",
    "print(tuple1)\n",
    "#accessing tuple items\n",
    "print(tuple1[0])\n",
    "print(mytuple[2])\n",
    "#using negative indexing\n",
    "print(mytuple[-1])\n"
   ]
  },
  {
   "cell_type": "markdown",
   "metadata": {},
   "source": [
    "3.Sets"
   ]
  },
  {
   "cell_type": "code",
   "execution_count": 34,
   "metadata": {},
   "outputs": [
    {
     "name": "stdout",
     "output_type": "stream",
     "text": [
      "{1, 2, 4, 6, 'abc', 'cde', 'bcd'}\n",
      "\n",
      "Elements of set: \n",
      "1\n",
      "2\n",
      "4\n",
      "6\n",
      "abc\n",
      "cde\n",
      "bcd\n",
      "\n",
      "True\n"
     ]
    }
   ],
   "source": [
    "#creating sets\n",
    "Set = set([1, 2, 'abc', 4, 'bcd', 6, 'cde'])\n",
    "print(Set)\n",
    "\n",
    "# Accessing element using for loop\n",
    "print(\"\\nElements of set: \")\n",
    "for i in Set:\n",
    "\tprint(i, end =\"\\n\")\n",
    "print()\n",
    "\n",
    "# Checking the element using in keyword\n",
    "print(\"abc\" in Set)\n"
   ]
  },
  {
   "cell_type": "markdown",
   "metadata": {},
   "source": [
    "4.Frozen set"
   ]
  },
  {
   "cell_type": "code",
   "execution_count": 35,
   "metadata": {},
   "outputs": [
    {
     "name": "stdout",
     "output_type": "stream",
     "text": [
      "{'c', 'b', 'a'}\n",
      "frozenset({'g', 'e', 'f'})\n"
     ]
    }
   ],
   "source": [
    "sets = set([\"a\", \"b\",\"c\"])\n",
    "print(sets)\n",
    "frozen_set = frozenset([\"e\", \"f\", \"g\"])\n",
    "print(frozen_set)\n",
    "\n"
   ]
  },
  {
   "cell_type": "markdown",
   "metadata": {},
   "source": [
    "5. Strings"
   ]
  },
  {
   "cell_type": "code",
   "execution_count": 36,
   "metadata": {},
   "outputs": [
    {
     "name": "stdout",
     "output_type": "stream",
     "text": [
      "python programming\n",
      "h\n",
      "pytho\n"
     ]
    }
   ],
   "source": [
    "#creating string\n",
    "str=\"python programming\"\n",
    "print(str)\n",
    "#accessing string elements\n",
    "print(str[3])\n",
    "#string slicing\n",
    "print(str[0:5]) "
   ]
  },
  {
   "cell_type": "markdown",
   "metadata": {},
   "source": [
    "6.Dictionary"
   ]
  },
  {
   "cell_type": "code",
   "execution_count": 37,
   "metadata": {},
   "outputs": [
    {
     "name": "stdout",
     "output_type": "stream",
     "text": [
      "{'Name': 'abc', 1: 2000, 2: 'class'}\n",
      "abc\n",
      "2000\n",
      "{1: 1, 2: 4, 3: 9, 4: 16, 5: 25}\n"
     ]
    }
   ],
   "source": [
    "# Creating a Dictionary\n",
    "Dict = {'Name': 'abc', 1:2000,2:\"class\"}\n",
    "print(Dict)\n",
    "\n",
    "# accessing a element using key\n",
    "print(Dict['Name'])\n",
    "\n",
    "# accessing a element using get() method\n",
    "print(Dict.get(1))\n",
    "\n",
    "# creation using Dictionary comprehension\n",
    "myDict = {x: x**2 for x in [1,2,3,4,5]}\n",
    "print(myDict)\n"
   ]
  },
  {
   "cell_type": "markdown",
   "metadata": {},
   "source": [
    "7.ByteArray"
   ]
  },
  {
   "cell_type": "code",
   "execution_count": 38,
   "metadata": {},
   "outputs": [
    {
     "name": "stdout",
     "output_type": "stream",
     "text": [
      "bytearray(b'\\x0c\\x08\\x19\\x02')\n",
      "\n",
      "Accessing Elements: 8\n",
      "bytearray(b'\\x0c\\x03\\x19\\x02')\n",
      "\n",
      "After Adding Elements:\n",
      "bytearray(b'\\x0c\\x03\\x19\\x02\\x1e')\n"
     ]
    }
   ],
   "source": [
    "# Creating bytearray\n",
    "a = bytearray((12, 8, 25, 2))\n",
    "\n",
    "print(a)\n",
    "\n",
    "# accessing elements\n",
    "print(\"\\nAccessing Elements:\", a[1])\n",
    "\n",
    "# modifying elements\n",
    "a[1] = 3\n",
    "print(a)\n",
    "\n",
    "# Appending elements\n",
    "a.append(30)\n",
    "print(\"\\nAfter Adding Elements:\")\n",
    "print(a)\n"
   ]
  },
  {
   "cell_type": "markdown",
   "metadata": {},
   "source": [
    "8.LinkedList"
   ]
  },
  {
   "cell_type": "code",
   "execution_count": 39,
   "metadata": {},
   "outputs": [],
   "source": [
    "class Node:  \n",
    "\n",
    "    def __init__(self, data):\n",
    "        self.data = data \n",
    "        self.next = None # Initialize next as null\n",
    "  \n",
    "  \n",
    "class LinkedList:\n",
    "  \n",
    "    def __init__(self):\n",
    "        self.head = None\n",
    "  \n",
    "if __name__=='__main__':\n",
    "  \n",
    "    llist = LinkedList()\n",
    "  \n",
    "    llist.head = Node(1)\n",
    "    second = Node(2)\n",
    "    third = Node(3)"
   ]
  },
  {
   "cell_type": "markdown",
   "metadata": {},
   "source": [
    " LinkedList using loop"
   ]
  },
  {
   "cell_type": "code",
   "execution_count": 42,
   "metadata": {},
   "outputs": [
    {
     "name": "stdout",
     "output_type": "stream",
     "text": [
      "1\n",
      "2\n",
      "3\n"
     ]
    }
   ],
   "source": [
    "class Node:  \n",
    "\n",
    "    def __init__(self, data):\n",
    "        self.data = data \n",
    "        self.next = None # Initialize next as null\n",
    "  \n",
    "  \n",
    "class LinkedList:\n",
    "  \n",
    "    def __init__(self):\n",
    "        self.head = None\n",
    "        \n",
    "    def printList(self):\n",
    "        temp = self.head\n",
    "        while (temp):\n",
    "            print (temp.data)\n",
    "            temp = temp.next\n",
    "  \n",
    "  \n",
    "if __name__=='__main__':\n",
    "  \n",
    "    llist = LinkedList()\n",
    "  \n",
    "    llist.head = Node(1)\n",
    "    second = Node(2)\n",
    "    third = Node(3)\n",
    "    llist.head.next = second; # Link first node with second\n",
    "    second.next = third; # Link second node with the third node\n",
    "  \n",
    "    llist.printList()\n"
   ]
  },
  {
   "cell_type": "markdown",
   "metadata": {},
   "source": [
    "9.Stack"
   ]
  },
  {
   "cell_type": "code",
   "execution_count": 43,
   "metadata": {},
   "outputs": [
    {
     "name": "stdout",
     "output_type": "stream",
     "text": [
      "Initial stack\n",
      "['h', 'f', 'g']\n",
      "\n",
      "Elements popped from stack:\n",
      "g\n",
      "f\n",
      "h\n",
      "\n",
      "Stack after elements are popped:\n",
      "[]\n"
     ]
    }
   ],
   "source": [
    "stack = []\n",
    "stack.append('h')\n",
    "stack.append('f')\n",
    "stack.append('g')\n",
    "\n",
    "print('Initial stack')\n",
    "print(stack)\n",
    "\n",
    "\n",
    "print('\\nElements popped from stack:')\n",
    "print(stack.pop())\n",
    "print(stack.pop())\n",
    "print(stack.pop())\n",
    "\n",
    "print('\\nStack after elements are popped:')\n",
    "print(stack)\n",
    "\n"
   ]
  },
  {
   "cell_type": "markdown",
   "metadata": {},
   "source": [
    "Insertion of newnode at begining"
   ]
  },
  {
   "cell_type": "code",
   "execution_count": 44,
   "metadata": {},
   "outputs": [
    {
     "name": "stdout",
     "output_type": "stream",
     "text": [
      "Linked List: \n",
      "122\n",
      "731\n",
      "672\n",
      "63\n"
     ]
    }
   ],
   "source": [
    "class Node:\n",
    "   def __init__(self, data=None):\n",
    "      self.data = data\n",
    "      self.next = None\n",
    "class SLL:\n",
    "   def __init__(self):\n",
    "      self.head = None\n",
    "\n",
    "   def listprint(self):\n",
    "      printval = self.head\n",
    "      print(\"Linked List: \")\n",
    "      while printval:\n",
    "         print (printval.data)\n",
    "         printval = printval.next\n",
    "   def AddAtBeginning(self,newdata):\n",
    "      NewNode = Node(newdata)\n",
    "      NewNode.next = self.head\n",
    "      self.head = NewNode\n",
    "\n",
    "l1 = SLL()\n",
    "l1.head = Node(\"731\")\n",
    "second = Node(\"672\")\n",
    "third= Node(\"63\")\n",
    "\n",
    "l1.head.next =second\n",
    "second.next = third\n",
    "\n",
    "l1.AddAtBeginning(\"122\")\n",
    "l1.listprint()"
   ]
  },
  {
   "cell_type": "markdown",
   "metadata": {},
   "source": [
    "Insertion of newnode at ending"
   ]
  },
  {
   "cell_type": "code",
   "execution_count": 45,
   "metadata": {},
   "outputs": [
    {
     "name": "stdout",
     "output_type": "stream",
     "text": [
      "Linked List:\n",
      "23\n",
      "12\n",
      "7\n",
      "14\n",
      "61\n"
     ]
    }
   ],
   "source": [
    "class Node:\n",
    "   def __init__(self, data=None):\n",
    "      self.data = data\n",
    "      self.next = None\n",
    "class SLL:\n",
    "   def __init__(self):\n",
    "      self.head = None\n",
    "   def listprint(self):\n",
    "      val = self.head\n",
    "      print(\"Linked List:\")\n",
    "      while val:\n",
    "         print(val.data)\n",
    "         val = val.next\n",
    "\n",
    "l1 = SLL()\n",
    "l1.head = Node(\"23\")\n",
    "l2 = Node(\"12\")\n",
    "l3 = Node(\"7\")\n",
    "l4 = Node(\"14\")\n",
    "l5 = Node(\"61\")\n",
    "\n",
    "l1.head.next = l2\n",
    "l2.next = l3\n",
    "l3.next = l4\n",
    "l4.next = l5\n",
    "l1.listprint()"
   ]
  },
  {
   "cell_type": "markdown",
   "metadata": {},
   "source": [
    "Insertion at given point"
   ]
  },
  {
   "cell_type": "code",
   "execution_count": 46,
   "metadata": {},
   "outputs": [],
   "source": [
    "class Node:\n",
    "   def __init__(self, data=None):\n",
    "      self.data = data\n",
    "      self.next = None\n",
    "\n",
    "\n",
    "class SLL:\n",
    "   def __init__(self):\n",
    "      self.head = None\n",
    "\n",
    "   def listprint(self):\n",
    "      printval = self.head\n",
    "      print(\"Linked List: \")\n",
    "      while printval is not None:\n",
    "         print (printval.data)\n",
    "         printval = printval.next\n",
    "\n",
    "   def InsertAtPos(self,nodeatpos,newdata):\n",
    "      if nodeatpos is None:\n",
    "         print(\"The mentioned node is absent\")\n",
    "         return\n",
    "      NewNode = Node(newdata)\n",
    "      NewNode.next = nodeatpos.next\n",
    "      nodeatpos.next = NewNode\n",
    "\n",
    "\n",
    "l1 = SLL()\n",
    "l1.head = Node(\"731\")\n",
    "e2 = Node(\"672\")\n",
    "e3 = Node(\"63\")"
   ]
  },
  {
   "cell_type": "code",
   "execution_count": 47,
   "metadata": {},
   "outputs": [
    {
     "name": "stdout",
     "output_type": "stream",
     "text": [
      "3\n",
      "2\n",
      "1\n",
      "0\n",
      "2\n",
      "1\n",
      "0\n"
     ]
    }
   ],
   "source": [
    "class Node:\n",
    "    # constructor to initialize the node object\n",
    "    def __init__(self, data):\n",
    "        self.number = data\n",
    "        self.next = None\n",
    " \n",
    " \n",
    "def push(head, A):\n",
    "    n = Node(A)\n",
    "    n.number = A\n",
    "    n.next = head\n",
    "    head = n\n",
    "    return head\n",
    " \n",
    " \n",
    "def deleteN(head, position):\n",
    "    temp = head\n",
    "    prev = head\n",
    "    for i in range(0, position):\n",
    "        if i == 0 and position == 1:\n",
    "            head = head.next\n",
    " \n",
    "        else:\n",
    "            if i == position-1 and temp is not None:\n",
    "                prev.next = temp.next\n",
    "            else:\n",
    "                prev = temp\n",
    " \n",
    "                # Position was greater than\n",
    "                # number of nodes in the list\n",
    "                if prev is None:\n",
    "                    break\n",
    "                temp = temp.next\n",
    "    return head\n",
    " \n",
    " \n",
    "def printList(head):\n",
    "    while(head):\n",
    "        if head.next == None:\n",
    "            print( head.number) \n",
    "        else:\n",
    "            print(head.number)\n",
    "        head = head.next\n",
    " \n",
    " \n",
    "head = Node(0)\n",
    "head = push(head, 1)\n",
    "head = push(head, 2)\n",
    "head = push(head, 3)\n",
    " \n",
    "printList(head)\n",
    " \n",
    "# Delete any position from list\n",
    "head = deleteN(head, 1)\n",
    "printList(head)\n",
    " "
   ]
  },
  {
   "cell_type": "markdown",
   "metadata": {},
   "source": [
    "10.Queue"
   ]
  },
  {
   "cell_type": "code",
   "execution_count": 48,
   "metadata": {},
   "outputs": [
    {
     "name": "stdout",
     "output_type": "stream",
     "text": [
      "Initial queue\n",
      "['g', 'f', 'g', 'i', 'y']\n",
      "\n",
      "Elements dequeued from queue\n",
      "g\n",
      "f\n",
      "g\n",
      "\n",
      "Queue after removing elements\n",
      "['i', 'y']\n"
     ]
    }
   ],
   "source": [
    "\n",
    "queue = []\n",
    "\n",
    "queue.append('g')\n",
    "queue.append('f')\n",
    "queue.append('g')\n",
    "queue.append('i')\n",
    "queue.append('y')\n",
    "\n",
    "print(\"Initial queue\")\n",
    "print(queue)\n",
    "\n",
    "\n",
    "print(\"\\nElements dequeued from queue\")\n",
    "print(queue.pop(0))\n",
    "print(queue.pop(0))\n",
    "print(queue.pop(0))\n",
    "\n",
    "\n",
    "print(\"\\nQueue after removing elements\")\n",
    "print(queue)\n",
    "\n"
   ]
  },
  {
   "cell_type": "code",
   "execution_count": 1,
   "metadata": {},
   "outputs": [
    {
     "name": "stdout",
     "output_type": "stream",
     "text": [
      "12 1 14 7\n",
      "14\n",
      "12\n",
      "7\n",
      "1\n"
     ]
    }
   ],
   "source": [
    "# A simple implementation of Priority Queue\n",
    "# using Queue.\n",
    "class PriorityQueue(object):\n",
    "\tdef __init__(self):\n",
    "\t\tself.queue = []\n",
    "\n",
    "\tdef __str__(self):\n",
    "\t\treturn ' '.join([str(i) for i in self.queue])\n",
    "\n",
    "\t# for checking if the queue is empty\n",
    "\tdef isEmpty(self):\n",
    "\t\treturn len(self.queue) == 0\n",
    "\n",
    "\t# for inserting an element in the queue\n",
    "\tdef insert(self, data):\n",
    "\t\tself.queue.append(data)\n",
    "\n",
    "\t# for popping an element based on Priority\n",
    "\tdef delete(self):\n",
    "\t\ttry:\n",
    "\t\t\tmax = 0\n",
    "\t\t\tfor i in range(len(self.queue)):\n",
    "\t\t\t\tif self.queue[i] > self.queue[max]:\n",
    "\t\t\t\t\tmax = i\n",
    "\t\t\titem = self.queue[max]\n",
    "\t\t\tdel self.queue[max]\n",
    "\t\t\treturn item\n",
    "\t\texcept IndexError:\n",
    "\t\t\tprint()\n",
    "\t\t\texit()\n",
    "\n",
    "if __name__ == '__main__':\n",
    "\tmyQueue = PriorityQueue()\n",
    "\tmyQueue.insert(12)\n",
    "\tmyQueue.insert(1)\n",
    "\tmyQueue.insert(14)\n",
    "\tmyQueue.insert(7)\n",
    "\tprint(myQueue)\t\t\n",
    "\twhile not myQueue.isEmpty():\n",
    "\t\tprint(myQueue.delete())\n"
   ]
  },
  {
   "cell_type": "code",
   "execution_count": 2,
   "metadata": {},
   "outputs": [
    {
     "name": "stdout",
     "output_type": "stream",
     "text": [
      "Processing: Task 1\n",
      "Processing: Task 2\n",
      "Processing: Task 3\n",
      "Queue is empty\n"
     ]
    }
   ],
   "source": [
    "from collections import deque\n",
    "\n",
    " \n",
    "queue = deque()\n",
    "\n",
    "\n",
    "queue.append(\"Task 1\")\n",
    "queue.append(\"Task 2\")\n",
    "queue.append(\"Task 3\")\n",
    "\n",
    "\n",
    "if len(queue) > 0:\n",
    "    task = queue.popleft()\n",
    "    print(\"Processing:\", task)\n",
    "else:\n",
    "    print(\"Queue is empty\")\n",
    "\n",
    "\n",
    "while len(queue) > 0:\n",
    "    task = queue.popleft()\n",
    "    print(\"Processing:\", task)\n",
    "else:\n",
    "    print(\"Queue is empty\")\n"
   ]
  },
  {
   "cell_type": "code",
   "execution_count": null,
   "metadata": {},
   "outputs": [],
   "source": [
    "\n"
   ]
  }
 ],
 "metadata": {
  "kernelspec": {
   "display_name": "Python 3",
   "language": "python",
   "name": "python3"
  },
  "language_info": {
   "codemirror_mode": {
    "name": "ipython",
    "version": 3
   },
   "file_extension": ".py",
   "mimetype": "text/x-python",
   "name": "python",
   "nbconvert_exporter": "python",
   "pygments_lexer": "ipython3",
   "version": "3.11.4"
  },
  "orig_nbformat": 4
 },
 "nbformat": 4,
 "nbformat_minor": 2
}
