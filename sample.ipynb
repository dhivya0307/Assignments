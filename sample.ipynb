{
 "cells": [
  {
   "cell_type": "code",
   "execution_count": 2,
   "metadata": {},
   "outputs": [
    {
     "name": "stdout",
     "output_type": "stream",
     "text": [
      "1\n",
      "2\n",
      "3\n"
     ]
    }
   ],
   "source": [
    "class node:\n",
    "   \n",
    "   def __init__(self,data):\n",
    "      self.data=data\n",
    "      self.next=None\n",
    "    \n",
    "class linkedlist:\n",
    "   def __init__(self):\n",
    "      self.head=None\n",
    "    \n",
    "   def printList(self):\n",
    "      temp=self.head\n",
    "      while(temp):\n",
    "         print(temp.data)\n",
    "         temp=temp.next\n",
    "\n",
    "if __name__=='__main__':\n",
    "   linlist=linkedlist()\n",
    "   linlist.head=node(1)\n",
    "   second=node(2)\n",
    "   third=node(3)\n",
    "   linlist.head.next=second\n",
    "   second.next=third\n",
    "   linlist.printList()"
   ]
  },
  {
   "cell_type": "code",
   "execution_count": 3,
   "metadata": {},
   "outputs": [
    {
     "name": "stdout",
     "output_type": "stream",
     "text": [
      "initial stack\n",
      "['y', 'd', 11]\n",
      "11\n",
      "d\n",
      "stack after doing deletion operation...\n",
      "['y']\n"
     ]
    }
   ],
   "source": [
    "stack=[]\n",
    "stack.append('y')\n",
    "stack.append('d')\n",
    "stack.append(11)\n",
    "print(\"initial stack\")\n",
    "print(stack)\n",
    "print(stack.pop())\n",
    "print(stack.pop())\n",
    "print(\"stack after doing deletion operation...\")\n",
    "print(stack)"
   ]
  },
  {
   "cell_type": "code",
   "execution_count": null,
   "metadata": {},
   "outputs": [],
   "source": []
  }
 ],
 "metadata": {
  "kernelspec": {
   "display_name": "Python 3",
   "language": "python",
   "name": "python3"
  },
  "language_info": {
   "codemirror_mode": {
    "name": "ipython",
    "version": 3
   },
   "file_extension": ".py",
   "mimetype": "text/x-python",
   "name": "python",
   "nbconvert_exporter": "python",
   "pygments_lexer": "ipython3",
   "version": "3.11.4"
  },
  "orig_nbformat": 4
 },
 "nbformat": 4,
 "nbformat_minor": 2
}
