{
 "cells": [
  {
   "cell_type": "code",
   "execution_count": 2,
   "metadata": {},
   "outputs": [
    {
     "name": "stdout",
     "output_type": "stream",
     "text": [
      "(1, 2, 'abc', 'bcd')\n",
      "[7, 85, 4, 2]\n",
      "(7, 85, 4, 2)\n",
      "7\n",
      "abc\n",
      "bcd\n"
     ]
    }
   ],
   "source": [
    "mytuple=(1,2,'abc','bcd')\n",
    "print(mytuple)\n",
    "list=[7,85,4,2]\n",
    "#convert list into tuple\n",
    "tuple1=tuple(list)\n",
    "print(list)\n",
    "print(tuple1)\n",
    "#accessing tuple items\n",
    "print(tuple1[0])\n",
    "print(mytuple[2])\n",
    "#using negative indexing\n",
    "print(mytuple[-1])"
   ]
  },
  {
   "cell_type": "markdown",
   "metadata": {},
   "source": [
    "print statement"
   ]
  },
  {
   "cell_type": "code",
   "execution_count": 3,
   "metadata": {},
   "outputs": [
    {
     "name": "stdout",
     "output_type": "stream",
     "text": [
      "hiii\n"
     ]
    }
   ],
   "source": [
    "print(\"hiii\")"
   ]
  },
  {
   "cell_type": "markdown",
   "metadata": {},
   "source": []
  }
 ],
 "metadata": {
  "kernelspec": {
   "display_name": "Python 3",
   "language": "python",
   "name": "python3"
  },
  "language_info": {
   "codemirror_mode": {
    "name": "ipython",
    "version": 3
   },
   "file_extension": ".py",
   "mimetype": "text/x-python",
   "name": "python",
   "nbconvert_exporter": "python",
   "pygments_lexer": "ipython3",
   "version": "3.11.4"
  },
  "orig_nbformat": 4
 },
 "nbformat": 4,
 "nbformat_minor": 2
}
