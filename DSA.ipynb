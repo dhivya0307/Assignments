{
 "cells": [
  {
   "cell_type": "markdown",
   "metadata": {},
   "source": [
    "List"
   ]
  },
  {
   "cell_type": "code",
   "execution_count": 4,
   "metadata": {},
   "outputs": [
    {
     "name": "stdout",
     "output_type": "stream",
     "text": [
      "[5, 1, 2, 'a', 'y', 'D', 3.4]\n",
      "[2, 3, 5, 'ayd', 5.6, 7.8]\n",
      "2\n",
      "5.6\n",
      "5.6\n",
      "7.8\n"
     ]
    }
   ],
   "source": [
    "# creating lists\n",
    "list=[5,1,2,\"a\",\"y\",\"D\",3.4]\n",
    "print(list)\n",
    "# list operations\n",
    "mylist=[2,3,5,'ayd',5.6,7.8]\n",
    "print(mylist)\n",
    "#accessing items in list\n",
    "print(mylist[0])\n",
    "print(mylist[4])\n",
    "#using negative indexing\n",
    "print(mylist[-2])\n",
    "print(mylist[-1])"
   ]
  },
  {
   "cell_type": "markdown",
   "metadata": {},
   "source": [
    "Tuple"
   ]
  },
  {
   "cell_type": "code",
   "execution_count": 5,
   "metadata": {},
   "outputs": [
    {
     "name": "stdout",
     "output_type": "stream",
     "text": [
      "(1, 2, 'abc', 'bcd')\n",
      "[7, 85, 4, 2]\n",
      "(7, 85, 4, 2)\n",
      "7\n",
      "abc\n",
      "bcd\n"
     ]
    }
   ],
   "source": [
    "mytuple=(1,2,'abc','bcd')\n",
    "print(mytuple)\n",
    "list=[7,85,4,2]\n",
    "#convert list into tuple\n",
    "tuple1=tuple(list)\n",
    "print(list)\n",
    "print(tuple1)\n",
    "#accessing tuple items\n",
    "print(tuple1[0])\n",
    "print(mytuple[2])\n",
    "#using negative indexing\n",
    "print(mytuple[-1])"
   ]
  },
  {
   "cell_type": "markdown",
   "metadata": {},
   "source": [
    "Sets"
   ]
  },
  {
   "cell_type": "code",
   "execution_count": 6,
   "metadata": {},
   "outputs": [
    {
     "name": "stdout",
     "output_type": "stream",
     "text": [
      "{1, 2, 'abc', 4, 6, 'bcd', 'cde'}\n",
      "\n",
      "Elements of set: \n",
      "1\n",
      "2\n",
      "abc\n",
      "4\n",
      "6\n",
      "bcd\n",
      "cde\n",
      "\n",
      "True\n"
     ]
    }
   ],
   "source": [
    "#creating sets\n",
    "Set = set([1, 2, 'abc', 4, 'bcd', 6, 'cde'])\n",
    "print(Set)\n",
    "\n",
    "# Accessing element using for loop\n",
    "print(\"\\nElements of set: \")\n",
    "for i in Set:\n",
    "\tprint(i, end =\"\\n\")\n",
    "print()\n",
    "\n",
    "# Checking the element using in keyword\n",
    "print(\"abc\" in Set)\n"
   ]
  },
  {
   "cell_type": "markdown",
   "metadata": {},
   "source": [
    "Frozen sets"
   ]
  },
  {
   "cell_type": "code",
   "execution_count": 7,
   "metadata": {},
   "outputs": [
    {
     "name": "stdout",
     "output_type": "stream",
     "text": [
      "{'a', 'b', 'c'}\n",
      "frozenset({'f', 'g', 'e'})\n"
     ]
    }
   ],
   "source": [
    "sets = set([\"a\", \"b\",\"c\"])\n",
    "print(sets)\n",
    "frozen_set = frozenset([\"e\", \"f\", \"g\"])\n",
    "print(frozen_set)"
   ]
  },
  {
   "cell_type": "markdown",
   "metadata": {},
   "source": [
    "String"
   ]
  },
  {
   "cell_type": "code",
   "execution_count": 8,
   "metadata": {},
   "outputs": [
    {
     "name": "stdout",
     "output_type": "stream",
     "text": [
      "python programming\n",
      "h\n",
      "pytho\n"
     ]
    }
   ],
   "source": [
    "#creating string\n",
    "str=\"python programming\"\n",
    "print(str)\n",
    "#accessing string elements\n",
    "print(str[3])\n",
    "#string slicing\n",
    "print(str[0:5])"
   ]
  },
  {
   "cell_type": "markdown",
   "metadata": {},
   "source": [
    "Dictionary"
   ]
  },
  {
   "cell_type": "code",
   "execution_count": 9,
   "metadata": {},
   "outputs": [
    {
     "name": "stdout",
     "output_type": "stream",
     "text": [
      "{'Name': 'abc', 1: 2000, 2: 'class'}\n",
      "abc\n",
      "2000\n",
      "{1: 1, 2: 4, 3: 9, 4: 16, 5: 25}\n"
     ]
    }
   ],
   "source": [
    "# Creating a Dictionary\n",
    "Dict = {'Name': 'abc', 1:2000,2:\"class\"}\n",
    "print(Dict)\n",
    "\n",
    "# accessing a element using key\n",
    "print(Dict['Name'])\n",
    "\n",
    "# accessing a element using get() method\n",
    "print(Dict.get(1))\n",
    "\n",
    "# creation using Dictionary comprehension\n",
    "myDict = {x: x**2 for x in [1,2,3,4,5]}\n",
    "print(myDict)\n"
   ]
  },
  {
   "cell_type": "markdown",
   "metadata": {},
   "source": [
    "Bytearray"
   ]
  },
  {
   "cell_type": "code",
   "execution_count": 10,
   "metadata": {},
   "outputs": [
    {
     "name": "stdout",
     "output_type": "stream",
     "text": [
      "bytearray(b'\\x0c\\x08\\x19\\x02')\n",
      "\n",
      "Accessing Elements: 8\n",
      "bytearray(b'\\x0c\\x03\\x19\\x02')\n",
      "\n",
      "After Adding Elements:\n",
      "bytearray(b'\\x0c\\x03\\x19\\x02\\x1e')\n"
     ]
    }
   ],
   "source": [
    "# Creating bytearray\n",
    "a = bytearray((12, 8, 25, 2))\n",
    "\n",
    "print(a)\n",
    "\n",
    "# accessing elements\n",
    "print(\"\\nAccessing Elements:\", a[1])\n",
    "\n",
    "# modifying elements\n",
    "a[1] = 3\n",
    "print(a)\n",
    "\n",
    "# Appending elements\n",
    "a.append(30)\n",
    "print(\"\\nAfter Adding Elements:\")\n",
    "print(a)"
   ]
  },
  {
   "cell_type": "markdown",
   "metadata": {},
   "source": [
    "LinkedList"
   ]
  },
  {
   "cell_type": "code",
   "execution_count": 11,
   "metadata": {},
   "outputs": [],
   "source": [
    "class Node:  \n",
    "\n",
    "    def __init__(self, data):\n",
    "        self.data = data \n",
    "        self.next = None # Initialize next as null\n",
    "  \n",
    "  \n",
    "class LinkedList:\n",
    "  \n",
    "    def __init__(self):\n",
    "        self.head = None\n",
    "  \n",
    "if __name__=='__main__':\n",
    "  \n",
    "    llist = LinkedList()\n",
    "  \n",
    "    llist.head = Node(1)\n",
    "    second = Node(2)\n",
    "    third = Node(3)"
   ]
  },
  {
   "cell_type": "code",
   "execution_count": 12,
   "metadata": {},
   "outputs": [
    {
     "name": "stdout",
     "output_type": "stream",
     "text": [
      "1\n",
      "2\n",
      "3\n"
     ]
    }
   ],
   "source": [
    "class Node:  \n",
    "\n",
    "    def __init__(self, data):\n",
    "        self.data = data \n",
    "        self.next = None # Initialize next as null\n",
    "  \n",
    "  \n",
    "class LinkedList:\n",
    "  \n",
    "    def __init__(self):\n",
    "        self.head = None\n",
    "        \n",
    "    def printList(self):\n",
    "        temp = self.head\n",
    "        while (temp):\n",
    "            print (temp.data)\n",
    "            temp = temp.next\n",
    "  \n",
    "  \n",
    "if __name__=='__main__':\n",
    "  \n",
    "    llist = LinkedList()\n",
    "  \n",
    "    llist.head = Node(1)\n",
    "    second = Node(2)\n",
    "    third = Node(3)\n",
    "    llist.head.next = second; # Link first node with second\n",
    "    second.next = third; # Link second node with the third node\n",
    "  \n",
    "    llist.printList()"
   ]
  },
  {
   "cell_type": "markdown",
   "metadata": {},
   "source": [
    "Stack"
   ]
  },
  {
   "cell_type": "code",
   "execution_count": 13,
   "metadata": {},
   "outputs": [
    {
     "name": "stdout",
     "output_type": "stream",
     "text": [
      "Initial stack\n",
      "['h', 'f', 'g']\n",
      "\n",
      "Elements popped from stack:\n",
      "g\n",
      "f\n",
      "h\n",
      "\n",
      "Stack after elements are popped:\n",
      "[]\n"
     ]
    }
   ],
   "source": [
    "stack = []\n",
    "stack.append('h')\n",
    "stack.append('f')\n",
    "stack.append('g')\n",
    "\n",
    "print('Initial stack')\n",
    "print(stack)\n",
    "\n",
    "\n",
    "print('\\nElements popped from stack:')\n",
    "print(stack.pop())\n",
    "print(stack.pop())\n",
    "print(stack.pop())\n",
    "\n",
    "print('\\nStack after elements are popped:')\n",
    "print(stack)\n"
   ]
  },
  {
   "cell_type": "markdown",
   "metadata": {},
   "source": [
    "Singly linked list (Insertion at begining)"
   ]
  },
  {
   "cell_type": "code",
   "execution_count": 14,
   "metadata": {},
   "outputs": [
    {
     "name": "stdout",
     "output_type": "stream",
     "text": [
      "Linked List: \n",
      "122\n",
      "731\n",
      "672\n",
      "63\n"
     ]
    }
   ],
   "source": [
    "class Node:\n",
    "   def __init__(self, data=None):\n",
    "      self.data = data\n",
    "      self.next = None\n",
    "class SLL:\n",
    "   def __init__(self):\n",
    "      self.head = None\n",
    "\n",
    "   def listprint(self):\n",
    "      printval = self.head\n",
    "      print(\"Linked List: \")\n",
    "      while printval:\n",
    "         print (printval.data)\n",
    "         printval = printval.next\n",
    "   def AddAtBeginning(self,newdata):\n",
    "      NewNode = Node(newdata)\n",
    "      NewNode.next = self.head\n",
    "      self.head = NewNode\n",
    "\n",
    "l1 = SLL()\n",
    "l1.head = Node(\"731\")\n",
    "second = Node(\"672\")\n",
    "third= Node(\"63\")\n",
    "\n",
    "l1.head.next =second\n",
    "second.next = third\n",
    "\n",
    "l1.AddAtBeginning(\"122\")\n",
    "l1.listprint()"
   ]
  },
  {
   "cell_type": "markdown",
   "metadata": {},
   "source": [
    "Deletion at begining"
   ]
  },
  {
   "cell_type": "code",
   "execution_count": 15,
   "metadata": {},
   "outputs": [
    {
     "name": "stdout",
     "output_type": "stream",
     "text": [
      "Linked List:\n",
      "23\n",
      "12\n",
      "7\n",
      "14\n",
      "61\n"
     ]
    }
   ],
   "source": [
    "class Node:\n",
    "   def __init__(self, data=None):\n",
    "      self.data = data\n",
    "      self.next = None\n",
    "class SLL:\n",
    "   def __init__(self):\n",
    "      self.head = None\n",
    "   def listprint(self):\n",
    "      val = self.head\n",
    "      print(\"Linked List:\")\n",
    "      while val:\n",
    "         print(val.data)\n",
    "         val = val.next\n",
    "\n",
    "l1 = SLL()\n",
    "l1.head = Node(\"23\")\n",
    "l2 = Node(\"12\")\n",
    "l3 = Node(\"7\")\n",
    "l4 = Node(\"14\")\n",
    "l5 = Node(\"61\")\n",
    "\n",
    "l1.head.next = l2\n",
    "l2.next = l3\n",
    "l3.next = l4\n",
    "l4.next = l5\n",
    "l1.listprint()"
   ]
  },
  {
   "cell_type": "markdown",
   "metadata": {},
   "source": [
    "Linked list deletion at any position"
   ]
  },
  {
   "cell_type": "code",
   "execution_count": 16,
   "metadata": {},
   "outputs": [
    {
     "name": "stdout",
     "output_type": "stream",
     "text": [
      "3\n",
      "2\n",
      "1\n",
      "0\n",
      "2\n",
      "1\n",
      "0\n"
     ]
    }
   ],
   "source": [
    "class Node:\n",
    "    # constructor to initialize the node object\n",
    "    def __init__(self, data):\n",
    "        self.number = data\n",
    "        self.next = None\n",
    " \n",
    " \n",
    "def push(head, A):\n",
    "    n = Node(A)\n",
    "    n.number = A\n",
    "    n.next = head\n",
    "    head = n\n",
    "    return head\n",
    " \n",
    " \n",
    "def deleteN(head, position):\n",
    "    temp = head\n",
    "    prev = head\n",
    "    for i in range(0, position):\n",
    "        if i == 0 and position == 1:\n",
    "            head = head.next\n",
    " \n",
    "        else:\n",
    "            if i == position-1 and temp is not None:\n",
    "                prev.next = temp.next\n",
    "            else:\n",
    "                prev = temp\n",
    " \n",
    "                # Position was greater than\n",
    "                # number of nodes in the list\n",
    "                if prev is None:\n",
    "                    break\n",
    "                temp = temp.next\n",
    "    return head\n",
    " \n",
    " \n",
    "def printList(head):\n",
    "    while(head):\n",
    "        if head.next == None:\n",
    "            print( head.number) \n",
    "        else:\n",
    "            print(head.number)\n",
    "        head = head.next\n",
    " \n",
    " \n",
    "head = Node(0)\n",
    "head = push(head, 1)\n",
    "head = push(head, 2)\n",
    "head = push(head, 3)\n",
    " \n",
    "printList(head)\n",
    " \n",
    "# Delete any position from list\n",
    "head = deleteN(head, 1)\n",
    "printList(head)"
   ]
  },
  {
   "cell_type": "markdown",
   "metadata": {},
   "source": [
    "Queue"
   ]
  },
  {
   "cell_type": "code",
   "execution_count": 17,
   "metadata": {},
   "outputs": [
    {
     "name": "stdout",
     "output_type": "stream",
     "text": [
      "Initial queue\n",
      "['g', 'f', 'g', 'i', 'y']\n",
      "\n",
      "Elements dequeued from queue\n",
      "g\n",
      "f\n",
      "g\n",
      "\n",
      "Queue after removing elements\n",
      "['i', 'y']\n"
     ]
    }
   ],
   "source": [
    "queue = []\n",
    "\n",
    "queue.append('g')\n",
    "queue.append('f')\n",
    "queue.append('g')\n",
    "queue.append('i')\n",
    "queue.append('y')\n",
    "\n",
    "print(\"Initial queue\")\n",
    "print(queue)\n",
    "\n",
    "\n",
    "print(\"\\nElements dequeued from queue\")\n",
    "print(queue.pop(0))\n",
    "print(queue.pop(0))\n",
    "print(queue.pop(0))\n",
    "\n",
    "\n",
    "print(\"\\nQueue after removing elements\")\n",
    "print(queue)\n",
    "\n"
   ]
  },
  {
   "cell_type": "markdown",
   "metadata": {},
   "source": [
    "Queue(Dequeue)"
   ]
  },
  {
   "cell_type": "code",
   "execution_count": 18,
   "metadata": {},
   "outputs": [
    {
     "name": "stdout",
     "output_type": "stream",
     "text": [
      "Processing: Task 1\n",
      "Processing: Task 2\n",
      "Processing: Task 3\n",
      "Queue is empty\n"
     ]
    }
   ],
   "source": [
    "from collections import deque\n",
    "\n",
    " \n",
    "queue = deque()\n",
    "\n",
    "\n",
    "queue.append(\"Task 1\")\n",
    "queue.append(\"Task 2\")\n",
    "queue.append(\"Task 3\")\n",
    "\n",
    "\n",
    "if len(queue) > 0:\n",
    "    task = queue.popleft()\n",
    "    print(\"Processing:\", task)\n",
    "else:\n",
    "    print(\"Queue is empty\")\n",
    "\n",
    "\n",
    "while len(queue) > 0:\n",
    "    task = queue.popleft()\n",
    "    print(\"Processing:\", task)\n",
    "else:\n",
    "    print(\"Queue is empty\")"
   ]
  },
  {
   "cell_type": "markdown",
   "metadata": {},
   "source": [
    "Tree Traversal"
   ]
  },
  {
   "cell_type": "code",
   "execution_count": 20,
   "metadata": {},
   "outputs": [
    {
     "name": "stdout",
     "output_type": "stream",
     "text": [
      "preorder traversal\n",
      "1\n",
      "2\n",
      "4\n",
      "5\n",
      "3\n",
      "6\n",
      "Inorder Traversal\n",
      "4\n",
      "2\n",
      "5\n",
      "1\n",
      "6\n",
      "3\n",
      "postorder Traversal\n",
      "4\n",
      "5\n",
      "2\n",
      "6\n",
      "3\n",
      "1\n"
     ]
    }
   ],
   "source": [
    "class node:\n",
    "    def __init__(self,key):\n",
    "        self.left=None\n",
    "        self.right=None\n",
    "        self.val=key\n",
    "\n",
    "def printInorder(root):\n",
    "    if root:\n",
    "        printInorder(root.left)\n",
    "        print(root.val)\n",
    "        printInorder(root.right)\n",
    "\n",
    "def printPostorder(root):\n",
    "    if root:\n",
    "        printPostorder(root.left)\n",
    "        printPostorder(root.right)\n",
    "        print(root.val)\n",
    "\n",
    "def printPreorder(root):\n",
    "    if root:\n",
    "        print(root.val)\n",
    "        printPreorder(root.left)\n",
    "        printPreorder(root.right)\n",
    "\n",
    "root=node(1)\n",
    "root.left=node(2)\n",
    "root.right=node(3)\n",
    "root.left.left=node(4)\n",
    "root.left.right=node(5)\n",
    "root.right.left=node(6)\n",
    "print(\"preorder traversal\")\n",
    "printPreorder(root)\n",
    "print(\"Inorder Traversal\")\n",
    "printInorder(root)\n",
    "print(\"postorder Traversal\")\n",
    "printPostorder(root)"
   ]
  },
  {
   "cell_type": "markdown",
   "metadata": {},
   "source": [
    "Breadth First Traversal"
   ]
  },
  {
   "cell_type": "code",
   "execution_count": 21,
   "metadata": {},
   "outputs": [
    {
     "name": "stdout",
     "output_type": "stream",
     "text": [
      "Breadth first traversal\n",
      "1\n",
      "2\n",
      "3\n",
      "4\n",
      "5\n",
      "6\n"
     ]
    }
   ],
   "source": [
    "class node:\n",
    "    def __init__(self,key):\n",
    "        self.data=key\n",
    "        self.left=None\n",
    "        self.right=None\n",
    "\n",
    "def printorder(root):\n",
    "    if root is None:\n",
    "        return\n",
    "    \n",
    "    queue=[]\n",
    "    queue.append(root)\n",
    "    while(len(queue)>0):\n",
    "        print(queue[0].data)\n",
    "        node=queue.pop(0)\n",
    "        if node.left is not None:\n",
    "            queue.append(node.left)\n",
    "        if node.right is not None:\n",
    "            queue.append(node.right)\n",
    "\n",
    "root=node(1)\n",
    "root.left=node(2)\n",
    "root.right=node(3)\n",
    "root.left.left=node(4)\n",
    "root.left.right=node(5)\n",
    "root.right.left=node(6) \n",
    "print(\"Breadth first traversal\")\n",
    "printorder(root)"
   ]
  },
  {
   "cell_type": "markdown",
   "metadata": {},
   "source": [
    "Binary Search Tree"
   ]
  },
  {
   "cell_type": "code",
   "execution_count": 22,
   "metadata": {},
   "outputs": [
    {
     "name": "stdout",
     "output_type": "stream",
     "text": [
      "Binary search Tree\n",
      "9\n"
     ]
    }
   ],
   "source": [
    "class node:\n",
    "    def __init__(self, key):\n",
    "        self.data = key\n",
    "        self.left = None\n",
    "        self.right = None\n",
    "\n",
    "def search(root, key):\n",
    "    if root is None or root.data == key:\n",
    "        return root\n",
    "    if root.data < key:\n",
    "        return search(root.right, key)\n",
    "    return search(root.left, key)\n",
    "\n",
    "root = node(8)\n",
    "root.left = node(4)\n",
    "root.right = node(10)\n",
    "root.left.left = node(3)\n",
    "root.left.right = node(5)\n",
    "root.right.left = node(9)\n",
    "root.right.right = node(11)\n",
    "\n",
    "print(\"Binary search Tree\")\n",
    "m = search(root, 9)\n",
    "print(m.data) "
   ]
  },
  {
   "cell_type": "markdown",
   "metadata": {},
   "source": [
    "Insertion at Binary search tree"
   ]
  },
  {
   "cell_type": "code",
   "execution_count": 23,
   "metadata": {},
   "outputs": [
    {
     "name": "stdout",
     "output_type": "stream",
     "text": [
      "20\n",
      "30\n",
      "40\n",
      "50\n",
      "60\n",
      "70\n",
      "80\n"
     ]
    }
   ],
   "source": [
    "class node:\n",
    "    def __init__(self,key):\n",
    "        self.val=key\n",
    "        self.left=None\n",
    "        self.right=None\n",
    "\n",
    "def insert(root,key):\n",
    "    if root is None:\n",
    "        return node(key)\n",
    "    else:\n",
    "        if root.val==key:\n",
    "            return root\n",
    "        elif root.val<key:\n",
    "            root.right = insert(root.right, key)\n",
    "        else:\n",
    "            root.left = insert(root.left, key)\n",
    "    return root\n",
    "  \n",
    "\n",
    "def inorder(root):\n",
    "    if root:\n",
    "        inorder(root.left)\n",
    "        print(root.val)\n",
    "        inorder(root.right)\n",
    "\n",
    "r = node(50)\n",
    "r = insert(r, 30)\n",
    "r = insert(r, 20)\n",
    "r = insert(r, 40)\n",
    "r = insert(r, 70)\n",
    "r = insert(r, 60)\n",
    "r = insert(r, 80)\n",
    "  \n",
    "inorder(r)"
   ]
  },
  {
   "cell_type": "markdown",
   "metadata": {},
   "source": [
    "Heap Tree"
   ]
  },
  {
   "cell_type": "code",
   "execution_count": null,
   "metadata": {},
   "outputs": [],
   "source": [
    "\n",
    "import heapq\n",
    "\n",
    "\n",
    "li = [5, 7, 9, 1, 3]\n",
    "\n",
    "\n",
    "heapq.heapify(li)\n",
    "\n",
    "print (\"The created heap is : \",end=\"\")\n",
    "print (list(li))\n",
    "\n",
    "\n",
    "heapq.heappush(li,4)\n",
    "\n",
    "\n",
    "print (\"The modified heap after push is : \",end=\"\")\n",
    "print (list(li))\n",
    "\n",
    "\n",
    "print (\"The popped and smallest element is : \",end=\"\")\n",
    "print (heapq.heappop(li))\n"
   ]
  },
  {
   "cell_type": "markdown",
   "metadata": {},
   "source": [
    "Graph (Adjacency Matrix)"
   ]
  },
  {
   "cell_type": "code",
   "execution_count": 25,
   "metadata": {},
   "outputs": [
    {
     "name": "stdout",
     "output_type": "stream",
     "text": [
      "Vertices of Graph\n",
      "['a', 'b', 'c', 'd', 'e', 'f']\n",
      "Edges of Graph\n",
      "[('a', 'c', 20), ('a', 'e', 10), ('b', 'c', 30), ('b', 'e', 40), ('c', 'a', 20), ('c', 'b', 30), ('d', 'e', 50), ('e', 'a', 10), ('e', 'b', 40), ('e', 'd', 50), ('e', 'f', 60), ('f', 'e', 60)]\n",
      "Adjacency Matrix of Graph\n",
      "[[-1, -1, 20, -1, 10, -1], [-1, -1, 30, -1, 40, -1], [20, 30, -1, -1, -1, -1], [-1, -1, -1, -1, 50, -1], [10, 40, -1, 50, -1, 60], [-1, -1, -1, -1, 60, -1]]\n"
     ]
    }
   ],
   "source": [
    "class Graph:\n",
    "\tdef __init__(self,numvertex):\n",
    "\t\tself.adjMatrix = [[-1]*numvertex for x in range(numvertex)]\n",
    "\t\tself.numvertex = numvertex\n",
    "\t\tself.vertices = {}\n",
    "\t\tself.verticeslist =[0]*numvertex\n",
    "\n",
    "\tdef set_vertex(self,vtx,id):\n",
    "\t\tif 0<=vtx<=self.numvertex:\n",
    "\t\t\tself.vertices[id] = vtx\n",
    "\t\t\tself.verticeslist[vtx] = id\n",
    "\n",
    "\tdef set_edge(self,frm,to,cost=0):\n",
    "\t\tfrm = self.vertices[frm]\n",
    "\t\tto = self.vertices[to]\n",
    "\t\tself.adjMatrix[frm][to] = cost\n",
    "\t\tself.adjMatrix[to][frm] = cost\n",
    "\n",
    "\tdef get_vertex(self):\n",
    "\t\treturn self.verticeslist\n",
    "\n",
    "\tdef get_edges(self):\n",
    "\t\tedges=[]\n",
    "\t\tfor i in range (self.numvertex):\n",
    "\t\t\tfor j in range (self.numvertex):\n",
    "\t\t\t\tif (self.adjMatrix[i][j]!=-1):\n",
    "\t\t\t\t\tedges.append((self.verticeslist[i],self.verticeslist[j],self.adjMatrix[i][j]))\n",
    "\t\treturn edges\n",
    "\t\t\n",
    "\tdef get_matrix(self):\n",
    "\t\treturn self.adjMatrix\n",
    "\n",
    "G =Graph(6)\n",
    "G.set_vertex(0,'a')\n",
    "G.set_vertex(1,'b')\n",
    "G.set_vertex(2,'c')\n",
    "G.set_vertex(3,'d')\n",
    "G.set_vertex(4,'e')\n",
    "G.set_vertex(5,'f')\n",
    "G.set_edge('a','e',10)\n",
    "G.set_edge('a','c',20)\n",
    "G.set_edge('c','b',30)\n",
    "G.set_edge('b','e',40)\n",
    "G.set_edge('e','d',50)\n",
    "G.set_edge('f','e',60)\n",
    "\n",
    "print(\"Vertices of Graph\")\n",
    "print(G.get_vertex())\n",
    "\n",
    "print(\"Edges of Graph\")\n",
    "print(G.get_edges())\n",
    "\n",
    "print(\"Adjacency Matrix of Graph\")\n",
    "print(G.get_matrix())\n"
   ]
  },
  {
   "cell_type": "markdown",
   "metadata": {},
   "source": [
    "Adjacency list"
   ]
  },
  {
   "cell_type": "code",
   "execution_count": 26,
   "metadata": {},
   "outputs": [
    {
     "name": "stdout",
     "output_type": "stream",
     "text": [
      "Adjacency list of vertex 0\n",
      " head -> 4 -> 1 \n",
      "\n",
      "Adjacency list of vertex 1\n",
      " head -> 4 -> 3 -> 2 -> 0 \n",
      "\n",
      "Adjacency list of vertex 2\n",
      " head -> 3 -> 1 \n",
      "\n",
      "Adjacency list of vertex 3\n",
      " head -> 4 -> 2 -> 1 \n",
      "\n",
      "Adjacency list of vertex 4\n",
      " head -> 3 -> 1 -> 0 \n",
      "\n"
     ]
    }
   ],
   "source": [
    "\n",
    "class AdjNode:\n",
    "\tdef __init__(self, data):\n",
    "\t\tself.vertex = data\n",
    "\t\tself.next = None\n",
    "\n",
    "class Graph:\n",
    "\tdef __init__(self, vertices):\n",
    "\t\tself.V = vertices\n",
    "\t\tself.graph = [None] * self.V\n",
    "\n",
    "\tdef add_edge(self, src, dest):\n",
    "\t\tnode = AdjNode(dest)\n",
    "\t\tnode.next = self.graph[src]\n",
    "\t\tself.graph[src] = node\n",
    "\t\tnode = AdjNode(src)\n",
    "\t\tnode.next = self.graph[dest]\n",
    "\t\tself.graph[dest] = node\n",
    "\n",
    "\tdef print_graph(self):\n",
    "\t\tfor i in range(self.V):\n",
    "\t\t\tprint(\"Adjacency list of vertex {}\\n head\".format(i), end=\"\")\n",
    "\t\t\ttemp = self.graph[i]\n",
    "\t\t\twhile temp:\n",
    "\t\t\t\tprint(\" -> {}\".format(temp.vertex), end=\"\")\n",
    "\t\t\t\ttemp = temp.next\n",
    "\t\t\tprint(\" \\n\")\n",
    "\n",
    "if __name__ == \"__main__\":\n",
    "\tV = 5\n",
    "\tgraph = Graph(V)\n",
    "\tgraph.add_edge(0, 1)\n",
    "\tgraph.add_edge(0, 4)\n",
    "\tgraph.add_edge(1, 2)\n",
    "\tgraph.add_edge(1, 3)\n",
    "\tgraph.add_edge(1, 4)\n",
    "\tgraph.add_edge(2, 3)\n",
    "\tgraph.add_edge(3, 4)\n",
    "\n",
    "\tgraph.print_graph()\n"
   ]
  },
  {
   "cell_type": "markdown",
   "metadata": {},
   "source": [
    "Breadth First Traversal with Graph"
   ]
  },
  {
   "cell_type": "code",
   "execution_count": null,
   "metadata": {},
   "outputs": [],
   "source": [
    "from collections import defaultdict\n",
    "class Graph:\n",
    "\n",
    "\tdef __init__(self):\n",
    "\t\tself.graph = defaultdict(list)\n",
    "\n",
    "\t\n",
    "\tdef addEdge(self,u,v):\n",
    "\t\tself.graph[u].append(v)\n",
    "\n",
    "\t\n",
    "\tdef BFS(self, s):\n",
    "\t\tvisited = [False] * (max(self.graph) + 1)\n",
    "\t\tqueue = []\n",
    "\t\tqueue.append(s)\n",
    "\t\tvisited[s] = True\n",
    "\n",
    "\t\twhile queue:\n",
    "\t\t\ts = queue.pop(0)\n",
    "\t\t\tprint (s, end = \" \")\n",
    "\n",
    "\t\t\tfor i in self.graph[s]:\n",
    "\t\t\t\tif visited[i] == False:\n",
    "\t\t\t\t\tqueue.append(i)\n",
    "\t\t\t\t\tvisited[i] = True\n",
    "\n",
    "g = Graph()\n",
    "g.addEdge(0, 1)\n",
    "g.addEdge(0, 2)\n",
    "g.addEdge(1, 2)\n",
    "g.addEdge(2, 0)\n",
    "g.addEdge(2, 3)\n",
    "g.addEdge(3, 3)\n",
    "\n",
    "print(\"BFS TRAVERSAL WITH GRAPH\" \"(starting from vertex 2)\")\n",
    "g.BFS(2)\n",
    "print(\"\")\n",
    "print(\"BFS TRAVERSAL WITH GRAPH\" \"(starting from vertex 1)\")\n",
    "g.BFS(1)\n"
   ]
  },
  {
   "cell_type": "markdown",
   "metadata": {},
   "source": [
    "DFS With Graph"
   ]
  },
  {
   "cell_type": "code",
   "execution_count": null,
   "metadata": {},
   "outputs": [],
   "source": [
    "\n",
    "from collections import defaultdict\n",
    "\n",
    "\n",
    "class Graph:\n",
    "\n",
    "\t\n",
    "\tdef __init__(self):\n",
    "\n",
    "\t\tself.graph = defaultdict(list)\n",
    "\n",
    "\t\n",
    "\tdef addEdge(self, u, v):\n",
    "\t\tself.graph[u].append(v)\n",
    "\n",
    "\t\n",
    "\tdef DFSUtil(self, v, visited):\n",
    "\n",
    "\t\tvisited.add(v)\n",
    "\t\tprint(v, end=' ')\n",
    "\n",
    "\t\tfor neighbour in self.graph[v]:\n",
    "\t\t\tif neighbour not in visited:\n",
    "\t\t\t\tself.DFSUtil(neighbour, visited)\n",
    "\n",
    "\tdef DFS(self, v):\n",
    "\t\tvisited = set()\n",
    "\t\tself.DFSUtil(v, visited)\n",
    "\n",
    "g = Graph()\n",
    "g.addEdge(0, 1)\n",
    "g.addEdge(0, 2)\n",
    "g.addEdge(1, 2)\n",
    "g.addEdge(2, 0)\n",
    "g.addEdge(2, 3)\n",
    "g.addEdge(3, 3)\n",
    "\n",
    "print(\"DFS Traversal(starting from vertex 2)\")\n",
    "g.DFS(2)\n",
    "print(\"\")\n",
    "print(\"DFS Traversal(starting from vertex 1)\")\n",
    "g.DFS(1)\n"
   ]
  },
  {
   "cell_type": "markdown",
   "metadata": {},
   "source": [
    "Recursion"
   ]
  },
  {
   "cell_type": "code",
   "execution_count": null,
   "metadata": {},
   "outputs": [],
   "source": [
    "\n",
    "def printFun(test):\n",
    "\n",
    "\tif (test < 1):\n",
    "\t\treturn\n",
    "\telse:\n",
    "\n",
    "\t\tprint(test, end=\" \")\n",
    "\t\tprintFun(test-1) \n",
    "\t\tprint(test, end=\" \")\n",
    "\t\treturn\n",
    "\n",
    "test = 3\n",
    "printFun(test)\n"
   ]
  },
  {
   "cell_type": "markdown",
   "metadata": {},
   "source": [
    "Linear Search"
   ]
  },
  {
   "cell_type": "code",
   "execution_count": null,
   "metadata": {},
   "outputs": [],
   "source": [
    "\n",
    "def search(arr, n, x):\n",
    "\n",
    "\tfor i in range(0, n):\n",
    "\t\tif (arr[i] == x):\n",
    "\t\t\treturn i\n",
    "\treturn -1\n",
    "\n",
    "arr = [2, 3, 4, 10, 40]\n",
    "x = 10\n",
    "n = len(arr)\n",
    "\n",
    "result = search(arr, n, x)\n",
    "if(result == -1):\n",
    "\tprint(\"Element is not present in array\")\n",
    "else:\n",
    "\tprint(\"Element is present at index\", result)\n"
   ]
  },
  {
   "cell_type": "markdown",
   "metadata": {},
   "source": [
    "Binary Search"
   ]
  },
  {
   "cell_type": "code",
   "execution_count": null,
   "metadata": {},
   "outputs": [],
   "source": [
    "def binarySearch (arr, l, r, x):\n",
    "\tif r >= l:\n",
    "\n",
    "\t\tmid = l + (r - l) // 2\n",
    "\t\tif arr[mid] == x:\n",
    "\t\t\treturn mid\n",
    "\t\telif arr[mid] > x:\n",
    "\t\t\treturn binarySearch(arr, l, mid-1, x)\n",
    "\t\telse:\n",
    "\t\t\treturn binarySearch(arr, mid + 1, r, x)\n",
    "\n",
    "\telse:\n",
    "\t\treturn -1\n",
    "\n",
    "arr = [ 2, 3, 4, 10, 40 ]\n",
    "x = 10\n",
    "\n",
    "result = binarySearch(arr, 0, len(arr)-1, x)\n",
    "\n",
    "if result != -1:\n",
    "\tprint (\"Element is present at index \", result)\n",
    "else:\n",
    "\tprint (\"Element is not present in array\")\n"
   ]
  },
  {
   "cell_type": "markdown",
   "metadata": {},
   "source": [
    "Selection Sort"
   ]
  },
  {
   "cell_type": "code",
   "execution_count": null,
   "metadata": {},
   "outputs": [
    {
     "name": "stdout",
     "output_type": "stream",
     "text": [
      "Sorted array\n",
      "11\n",
      "12\n",
      "22\n",
      "25\n",
      "64\n"
     ]
    }
   ],
   "source": [
    "\n",
    "import sys\n",
    "\n",
    "\n",
    "A = [64, 25, 12, 22, 11]\n",
    "\n",
    "for i in range(len(A)):\n",
    "\t\n",
    "\tmin_idx = i\n",
    "\tfor j in range(i+1, len(A)):\n",
    "\t\tif A[min_idx] > A[j]:\n",
    "\t\t\tmin_idx = j\n",
    "\tA[i], A[min_idx] = A[min_idx], A[i]\n",
    "\n",
    "\n",
    "print (\"Sorted array\")\n",
    "for i in range(len(A)):\n",
    "\tprint(\"%d\" %A[i]),\n"
   ]
  },
  {
   "cell_type": "markdown",
   "metadata": {},
   "source": [
    "Bubble Sort"
   ]
  },
  {
   "cell_type": "code",
   "execution_count": null,
   "metadata": {},
   "outputs": [],
   "source": [
    "def bubbleSort(arr):\n",
    "\tn = len(arr)\n",
    "\n",
    "\tfor i in range(n):\n",
    "\n",
    "\t\tfor j in range(0, n-i-1):\n",
    "\n",
    "\t\t\tif arr[j] > arr[j+1] :\n",
    "\t\t\t\tarr[j], arr[j+1] = arr[j+1], arr[j]\n",
    "\n",
    "arr = [64, 34, 25, 12, 22, 11, 90]\n",
    "\n",
    "bubbleSort(arr)\n",
    "\n",
    "print (\"Sorted array is:\")\n",
    "for i in range(len(arr)):\n",
    "\tprint (\"%d\" %arr[i]),\n"
   ]
  },
  {
   "cell_type": "markdown",
   "metadata": {},
   "source": [
    "Insertion Sort"
   ]
  },
  {
   "cell_type": "code",
   "execution_count": null,
   "metadata": {},
   "outputs": [],
   "source": [
    "def insertionSort(arr):\n",
    "\n",
    "\tfor i in range(1, len(arr)):\n",
    "\n",
    "\t\tkey = arr[i]\n",
    "\t\tj = i-1\n",
    "\t\twhile j >= 0 and key < arr[j] :\n",
    "\t\t\t\tarr[j + 1] = arr[j]\n",
    "\t\t\t\tj -= 1\n",
    "\t\tarr[j + 1] = key\n",
    "\n",
    "arr = [12, 11, 13, 5, 6]\n",
    "insertionSort(arr)\n",
    "print(\"sorted array\")\n",
    "for i in range(len(arr)):\n",
    "\tprint (\"% d\" % arr[i])\n"
   ]
  },
  {
   "cell_type": "markdown",
   "metadata": {},
   "source": [
    "Merge sort"
   ]
  },
  {
   "cell_type": "code",
   "execution_count": null,
   "metadata": {},
   "outputs": [],
   "source": [
    "def mergeSort(arr):\n",
    "\tif len(arr) > 1:\n",
    "\t\tmid = len(arr)//2\n",
    "\t\tL = arr[:mid]\n",
    "\t\tR = arr[mid:]\n",
    "\t\tmergeSort(L)\n",
    "\t\tmergeSort(R)\n",
    "\n",
    "\t\ti = j = k = 0\n",
    "\n",
    "\t\twhile i < len(L) and j < len(R):\n",
    "\t\t\tif L[i] < R[j]:\n",
    "\t\t\t\tarr[k] = L[i]\n",
    "\t\t\t\ti += 1\n",
    "\t\t\telse:\n",
    "\t\t\t\tarr[k] = R[j]\n",
    "\t\t\t\tj += 1\n",
    "\t\t\tk += 1\n",
    "\n",
    "\t\twhile i < len(L):\n",
    "\t\t\tarr[k] = L[i]\n",
    "\t\t\ti += 1\n",
    "\t\t\tk += 1\n",
    "\n",
    "\t\twhile j < len(R):\n",
    "\t\t\tarr[k] = R[j]\n",
    "\t\t\tj += 1\n",
    "\t\t\tk += 1\n",
    "\n",
    "def printList(arr):\n",
    "\tfor i in range(len(arr)):\n",
    "\t\tprint(arr[i], end=\" \")\n",
    "\tprint()\n",
    "\n",
    "if __name__ == '__main__':\n",
    "\tarr = [12, 11, 13, 5, 6, 7]\n",
    "\tprint(\"Given array is\", end=\"\\n\")\n",
    "\tprintList(arr)\n",
    "\tmergeSort(arr)\n",
    "\tprint(\"Sorted array is: \", end=\"\\n\")\n",
    "\tprintList(arr)\n"
   ]
  },
  {
   "cell_type": "markdown",
   "metadata": {},
   "source": [
    "Quick Sort"
   ]
  },
  {
   "cell_type": "code",
   "execution_count": null,
   "metadata": {},
   "outputs": [],
   "source": [
    "\n",
    "def partition(start, end, array):\n",
    "\n",
    "\tpivot_index = start\n",
    "\tpivot = array[pivot_index]\n",
    "\t\n",
    "\twhile start < end:\n",
    "\t\t\n",
    "\t\twhile start < len(array) and array[start] <= pivot:\n",
    "\t\t\tstart += 1\n",
    "\t\t\n",
    "\t\twhile array[end] > pivot:\n",
    "\t\t\tend -= 1\n",
    "\t\t\n",
    "\t\tif(start < end):\n",
    "\t\t\tarray[start], array[end] = array[end], array[start]\n",
    "\tarray[end], array[pivot_index] = array[pivot_index], array[end]\n",
    "\treturn end\n",
    "\t\n",
    "def quick_sort(start, end, array):\n",
    "\t\n",
    "\tif (start < end):\n",
    "\t\tp = partition(start, end, array)\n",
    "\t\tquick_sort(start, p - 1, array)\n",
    "\t\tquick_sort(p + 1, end, array)\n",
    "\t\t\n",
    "array = [ 10, 7, 8, 9, 1, 5 ]\n",
    "quick_sort(0, len(array) - 1, array)\n",
    "\n",
    "print(f'Sorted array: {array}')\n"
   ]
  }
 ],
 "metadata": {
  "kernelspec": {
   "display_name": "Python 3",
   "language": "python",
   "name": "python3"
  },
  "language_info": {
   "codemirror_mode": {
    "name": "ipython",
    "version": 3
   },
   "file_extension": ".py",
   "mimetype": "text/x-python",
   "name": "python",
   "nbconvert_exporter": "python",
   "pygments_lexer": "ipython3",
   "version": "3.11.4"
  },
  "orig_nbformat": 4
 },
 "nbformat": 4,
 "nbformat_minor": 2
}
